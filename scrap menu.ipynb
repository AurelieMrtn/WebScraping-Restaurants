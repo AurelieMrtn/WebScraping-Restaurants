{
 "cells": [
  {
   "cell_type": "code",
   "execution_count": 58,
   "id": "be0c2bb1",
   "metadata": {},
   "outputs": [],
   "source": [
    "from selenium import webdriver\n",
    "import json\n",
    "from selenium import webdriver\n",
    "from selenium.webdriver.chrome.service import Service\n",
    "from selenium.webdriver.common.by import By\n",
    "import pandas as pd"
   ]
  },
  {
   "cell_type": "code",
   "execution_count": 101,
   "id": "c0a7d755",
   "metadata": {},
   "outputs": [],
   "source": [
    "def getData(url):\n",
    "    service = Service('C:/Users/alexa/Downloads/chromedriver-win64/chromedriver.exe')\n",
    "    driver = webdriver.Chrome(service=service)\n",
    "\n",
    "    driver.get(url)\n",
    "\n",
    "    main_element = driver.find_element(By.ID, 'mainContent')\n",
    "\n",
    "    scripts = main_element.find_elements(By.TAG_NAME, 'script')\n",
    "\n",
    "    json_data = None\n",
    "\n",
    "    for script in scripts:\n",
    "        if 'application/ld+json' in script.get_attribute('type'):\n",
    "            json_data = script.get_attribute('innerHTML')\n",
    "            break\n",
    "\n",
    "    driver.quit()\n",
    "\n",
    "    if json_data:\n",
    "        data = json.loads(json_data)\n",
    "    \n",
    "    else:\n",
    "        print(\"pas de json\")\n",
    "        \n",
    "    return data"
   ]
  },
  {
   "cell_type": "code",
   "execution_count": 61,
   "id": "a117e52b",
   "metadata": {},
   "outputs": [],
   "source": [
    "def getMenu(data):\n",
    "    menu = []\n",
    "    for section in data['hasMenu'][0]['hasMenuSection']:\n",
    "        for item in section['hasMenuItem']:\n",
    "            menu.append([item['name'],item['description']])\n",
    "        \n",
    "    return menu"
   ]
  },
  {
   "cell_type": "code",
   "execution_count": 143,
   "id": "0233324e",
   "metadata": {
    "scrolled": true
   },
   "outputs": [
    {
     "ename": "KeyboardInterrupt",
     "evalue": "",
     "output_type": "error",
     "traceback": [
      "\u001b[1;31m---------------------------------------------------------------------------\u001b[0m",
      "\u001b[1;31mKeyboardInterrupt\u001b[0m                         Traceback (most recent call last)",
      "\u001b[1;32m~\\AppData\\Local\\Temp\\ipykernel_20984\\866051346.py\u001b[0m in \u001b[0;36m<module>\u001b[1;34m\u001b[0m\n\u001b[0;32m      1\u001b[0m \u001b[0murl\u001b[0m \u001b[1;33m=\u001b[0m\u001b[1;34m'https://www.opentable.com/r/hard-rock-cafe-paris?corrid=048b467e-411f-4336-b935-ecfaf102449e&avt=eyJ2IjoyLCJtIjoxLCJwIjowLCJzIjowLCJuIjowfQ&p=2&sd=2023-12-15T19%3A00%3A00'\u001b[0m\u001b[1;33m\u001b[0m\u001b[1;33m\u001b[0m\u001b[0m\n\u001b[1;32m----> 2\u001b[1;33m \u001b[0mdata\u001b[0m \u001b[1;33m=\u001b[0m \u001b[0mgetData\u001b[0m\u001b[1;33m(\u001b[0m\u001b[0murl\u001b[0m\u001b[1;33m)\u001b[0m\u001b[1;33m\u001b[0m\u001b[1;33m\u001b[0m\u001b[0m\n\u001b[0m\u001b[0;32m      3\u001b[0m \u001b[0mprint\u001b[0m\u001b[1;33m(\u001b[0m\u001b[0mdata\u001b[0m\u001b[1;33m)\u001b[0m\u001b[1;33m\u001b[0m\u001b[1;33m\u001b[0m\u001b[0m\n",
      "\u001b[1;32m~\\AppData\\Local\\Temp\\ipykernel_20984\\826470871.py\u001b[0m in \u001b[0;36mgetData\u001b[1;34m(url)\u001b[0m\n\u001b[0;32m      1\u001b[0m \u001b[1;32mdef\u001b[0m \u001b[0mgetData\u001b[0m\u001b[1;33m(\u001b[0m\u001b[0murl\u001b[0m\u001b[1;33m)\u001b[0m\u001b[1;33m:\u001b[0m\u001b[1;33m\u001b[0m\u001b[1;33m\u001b[0m\u001b[0m\n\u001b[0;32m      2\u001b[0m     \u001b[0mservice\u001b[0m \u001b[1;33m=\u001b[0m \u001b[0mService\u001b[0m\u001b[1;33m(\u001b[0m\u001b[1;34m'C:/Users/alexa/Downloads/chromedriver-win64/chromedriver.exe'\u001b[0m\u001b[1;33m)\u001b[0m\u001b[1;33m\u001b[0m\u001b[1;33m\u001b[0m\u001b[0m\n\u001b[1;32m----> 3\u001b[1;33m     \u001b[0mdriver\u001b[0m \u001b[1;33m=\u001b[0m \u001b[0mwebdriver\u001b[0m\u001b[1;33m.\u001b[0m\u001b[0mChrome\u001b[0m\u001b[1;33m(\u001b[0m\u001b[0mservice\u001b[0m\u001b[1;33m=\u001b[0m\u001b[0mservice\u001b[0m\u001b[1;33m)\u001b[0m\u001b[1;33m\u001b[0m\u001b[1;33m\u001b[0m\u001b[0m\n\u001b[0m\u001b[0;32m      4\u001b[0m \u001b[1;33m\u001b[0m\u001b[0m\n\u001b[0;32m      5\u001b[0m     \u001b[0mdriver\u001b[0m\u001b[1;33m.\u001b[0m\u001b[0mget\u001b[0m\u001b[1;33m(\u001b[0m\u001b[0murl\u001b[0m\u001b[1;33m)\u001b[0m\u001b[1;33m\u001b[0m\u001b[1;33m\u001b[0m\u001b[0m\n",
      "\u001b[1;32m~\\anaconda3\\lib\\site-packages\\selenium\\webdriver\\chrome\\webdriver.py\u001b[0m in \u001b[0;36m__init__\u001b[1;34m(self, options, service, keep_alive)\u001b[0m\n\u001b[0;32m     43\u001b[0m         \u001b[0moptions\u001b[0m \u001b[1;33m=\u001b[0m \u001b[0moptions\u001b[0m \u001b[1;32mif\u001b[0m \u001b[0moptions\u001b[0m \u001b[1;32melse\u001b[0m \u001b[0mOptions\u001b[0m\u001b[1;33m(\u001b[0m\u001b[1;33m)\u001b[0m\u001b[1;33m\u001b[0m\u001b[1;33m\u001b[0m\u001b[0m\n\u001b[0;32m     44\u001b[0m \u001b[1;33m\u001b[0m\u001b[0m\n\u001b[1;32m---> 45\u001b[1;33m         super().__init__(\n\u001b[0m\u001b[0;32m     46\u001b[0m             \u001b[0mDesiredCapabilities\u001b[0m\u001b[1;33m.\u001b[0m\u001b[0mCHROME\u001b[0m\u001b[1;33m[\u001b[0m\u001b[1;34m\"browserName\"\u001b[0m\u001b[1;33m]\u001b[0m\u001b[1;33m,\u001b[0m\u001b[1;33m\u001b[0m\u001b[1;33m\u001b[0m\u001b[0m\n\u001b[0;32m     47\u001b[0m             \u001b[1;34m\"goog\"\u001b[0m\u001b[1;33m,\u001b[0m\u001b[1;33m\u001b[0m\u001b[1;33m\u001b[0m\u001b[0m\n",
      "\u001b[1;32m~\\anaconda3\\lib\\site-packages\\selenium\\webdriver\\chromium\\webdriver.py\u001b[0m in \u001b[0;36m__init__\u001b[1;34m(self, browser_name, vendor_prefix, options, service, keep_alive)\u001b[0m\n\u001b[0;32m     54\u001b[0m \u001b[1;33m\u001b[0m\u001b[0m\n\u001b[0;32m     55\u001b[0m         \u001b[1;32mtry\u001b[0m\u001b[1;33m:\u001b[0m\u001b[1;33m\u001b[0m\u001b[1;33m\u001b[0m\u001b[0m\n\u001b[1;32m---> 56\u001b[1;33m             super().__init__(\n\u001b[0m\u001b[0;32m     57\u001b[0m                 command_executor=ChromiumRemoteConnection(\n\u001b[0;32m     58\u001b[0m                     \u001b[0mremote_server_addr\u001b[0m\u001b[1;33m=\u001b[0m\u001b[0mself\u001b[0m\u001b[1;33m.\u001b[0m\u001b[0mservice\u001b[0m\u001b[1;33m.\u001b[0m\u001b[0mservice_url\u001b[0m\u001b[1;33m,\u001b[0m\u001b[1;33m\u001b[0m\u001b[1;33m\u001b[0m\u001b[0m\n",
      "\u001b[1;32m~\\anaconda3\\lib\\site-packages\\selenium\\webdriver\\remote\\webdriver.py\u001b[0m in \u001b[0;36m__init__\u001b[1;34m(self, command_executor, keep_alive, file_detector, options)\u001b[0m\n\u001b[0;32m    203\u001b[0m         \u001b[0mself\u001b[0m\u001b[1;33m.\u001b[0m\u001b[0m_authenticator_id\u001b[0m \u001b[1;33m=\u001b[0m \u001b[1;32mNone\u001b[0m\u001b[1;33m\u001b[0m\u001b[1;33m\u001b[0m\u001b[0m\n\u001b[0;32m    204\u001b[0m         \u001b[0mself\u001b[0m\u001b[1;33m.\u001b[0m\u001b[0mstart_client\u001b[0m\u001b[1;33m(\u001b[0m\u001b[1;33m)\u001b[0m\u001b[1;33m\u001b[0m\u001b[1;33m\u001b[0m\u001b[0m\n\u001b[1;32m--> 205\u001b[1;33m         \u001b[0mself\u001b[0m\u001b[1;33m.\u001b[0m\u001b[0mstart_session\u001b[0m\u001b[1;33m(\u001b[0m\u001b[0mcapabilities\u001b[0m\u001b[1;33m)\u001b[0m\u001b[1;33m\u001b[0m\u001b[1;33m\u001b[0m\u001b[0m\n\u001b[0m\u001b[0;32m    206\u001b[0m \u001b[1;33m\u001b[0m\u001b[0m\n\u001b[0;32m    207\u001b[0m     \u001b[1;32mdef\u001b[0m \u001b[0m__repr__\u001b[0m\u001b[1;33m(\u001b[0m\u001b[0mself\u001b[0m\u001b[1;33m)\u001b[0m\u001b[1;33m:\u001b[0m\u001b[1;33m\u001b[0m\u001b[1;33m\u001b[0m\u001b[0m\n",
      "\u001b[1;32m~\\anaconda3\\lib\\site-packages\\selenium\\webdriver\\remote\\webdriver.py\u001b[0m in \u001b[0;36mstart_session\u001b[1;34m(self, capabilities)\u001b[0m\n\u001b[0;32m    287\u001b[0m \u001b[1;33m\u001b[0m\u001b[0m\n\u001b[0;32m    288\u001b[0m         \u001b[0mcaps\u001b[0m \u001b[1;33m=\u001b[0m \u001b[0m_create_caps\u001b[0m\u001b[1;33m(\u001b[0m\u001b[0mcapabilities\u001b[0m\u001b[1;33m)\u001b[0m\u001b[1;33m\u001b[0m\u001b[1;33m\u001b[0m\u001b[0m\n\u001b[1;32m--> 289\u001b[1;33m         \u001b[0mresponse\u001b[0m \u001b[1;33m=\u001b[0m \u001b[0mself\u001b[0m\u001b[1;33m.\u001b[0m\u001b[0mexecute\u001b[0m\u001b[1;33m(\u001b[0m\u001b[0mCommand\u001b[0m\u001b[1;33m.\u001b[0m\u001b[0mNEW_SESSION\u001b[0m\u001b[1;33m,\u001b[0m \u001b[0mcaps\u001b[0m\u001b[1;33m)\u001b[0m\u001b[1;33m[\u001b[0m\u001b[1;34m\"value\"\u001b[0m\u001b[1;33m]\u001b[0m\u001b[1;33m\u001b[0m\u001b[1;33m\u001b[0m\u001b[0m\n\u001b[0m\u001b[0;32m    290\u001b[0m         \u001b[0mself\u001b[0m\u001b[1;33m.\u001b[0m\u001b[0msession_id\u001b[0m \u001b[1;33m=\u001b[0m \u001b[0mresponse\u001b[0m\u001b[1;33m.\u001b[0m\u001b[0mget\u001b[0m\u001b[1;33m(\u001b[0m\u001b[1;34m\"sessionId\"\u001b[0m\u001b[1;33m)\u001b[0m\u001b[1;33m\u001b[0m\u001b[1;33m\u001b[0m\u001b[0m\n\u001b[0;32m    291\u001b[0m         \u001b[0mself\u001b[0m\u001b[1;33m.\u001b[0m\u001b[0mcaps\u001b[0m \u001b[1;33m=\u001b[0m \u001b[0mresponse\u001b[0m\u001b[1;33m.\u001b[0m\u001b[0mget\u001b[0m\u001b[1;33m(\u001b[0m\u001b[1;34m\"capabilities\"\u001b[0m\u001b[1;33m)\u001b[0m\u001b[1;33m\u001b[0m\u001b[1;33m\u001b[0m\u001b[0m\n",
      "\u001b[1;32m~\\anaconda3\\lib\\site-packages\\selenium\\webdriver\\remote\\webdriver.py\u001b[0m in \u001b[0;36mexecute\u001b[1;34m(self, driver_command, params)\u001b[0m\n\u001b[0;32m    340\u001b[0m                 \u001b[0mparams\u001b[0m\u001b[1;33m[\u001b[0m\u001b[1;34m\"sessionId\"\u001b[0m\u001b[1;33m]\u001b[0m \u001b[1;33m=\u001b[0m \u001b[0mself\u001b[0m\u001b[1;33m.\u001b[0m\u001b[0msession_id\u001b[0m\u001b[1;33m\u001b[0m\u001b[1;33m\u001b[0m\u001b[0m\n\u001b[0;32m    341\u001b[0m \u001b[1;33m\u001b[0m\u001b[0m\n\u001b[1;32m--> 342\u001b[1;33m         \u001b[0mresponse\u001b[0m \u001b[1;33m=\u001b[0m \u001b[0mself\u001b[0m\u001b[1;33m.\u001b[0m\u001b[0mcommand_executor\u001b[0m\u001b[1;33m.\u001b[0m\u001b[0mexecute\u001b[0m\u001b[1;33m(\u001b[0m\u001b[0mdriver_command\u001b[0m\u001b[1;33m,\u001b[0m \u001b[0mparams\u001b[0m\u001b[1;33m)\u001b[0m\u001b[1;33m\u001b[0m\u001b[1;33m\u001b[0m\u001b[0m\n\u001b[0m\u001b[0;32m    343\u001b[0m         \u001b[1;32mif\u001b[0m \u001b[0mresponse\u001b[0m\u001b[1;33m:\u001b[0m\u001b[1;33m\u001b[0m\u001b[1;33m\u001b[0m\u001b[0m\n\u001b[0;32m    344\u001b[0m             \u001b[0mself\u001b[0m\u001b[1;33m.\u001b[0m\u001b[0merror_handler\u001b[0m\u001b[1;33m.\u001b[0m\u001b[0mcheck_response\u001b[0m\u001b[1;33m(\u001b[0m\u001b[0mresponse\u001b[0m\u001b[1;33m)\u001b[0m\u001b[1;33m\u001b[0m\u001b[1;33m\u001b[0m\u001b[0m\n",
      "\u001b[1;32m~\\anaconda3\\lib\\site-packages\\selenium\\webdriver\\remote\\remote_connection.py\u001b[0m in \u001b[0;36mexecute\u001b[1;34m(self, command, params)\u001b[0m\n\u001b[0;32m    295\u001b[0m         \u001b[0mdata\u001b[0m \u001b[1;33m=\u001b[0m \u001b[0mutils\u001b[0m\u001b[1;33m.\u001b[0m\u001b[0mdump_json\u001b[0m\u001b[1;33m(\u001b[0m\u001b[0mparams\u001b[0m\u001b[1;33m)\u001b[0m\u001b[1;33m\u001b[0m\u001b[1;33m\u001b[0m\u001b[0m\n\u001b[0;32m    296\u001b[0m         \u001b[0murl\u001b[0m \u001b[1;33m=\u001b[0m \u001b[1;34mf\"{self._url}{path}\"\u001b[0m\u001b[1;33m\u001b[0m\u001b[1;33m\u001b[0m\u001b[0m\n\u001b[1;32m--> 297\u001b[1;33m         \u001b[1;32mreturn\u001b[0m \u001b[0mself\u001b[0m\u001b[1;33m.\u001b[0m\u001b[0m_request\u001b[0m\u001b[1;33m(\u001b[0m\u001b[0mcommand_info\u001b[0m\u001b[1;33m[\u001b[0m\u001b[1;36m0\u001b[0m\u001b[1;33m]\u001b[0m\u001b[1;33m,\u001b[0m \u001b[0murl\u001b[0m\u001b[1;33m,\u001b[0m \u001b[0mbody\u001b[0m\u001b[1;33m=\u001b[0m\u001b[0mdata\u001b[0m\u001b[1;33m)\u001b[0m\u001b[1;33m\u001b[0m\u001b[1;33m\u001b[0m\u001b[0m\n\u001b[0m\u001b[0;32m    298\u001b[0m \u001b[1;33m\u001b[0m\u001b[0m\n\u001b[0;32m    299\u001b[0m     \u001b[1;32mdef\u001b[0m \u001b[0m_request\u001b[0m\u001b[1;33m(\u001b[0m\u001b[0mself\u001b[0m\u001b[1;33m,\u001b[0m \u001b[0mmethod\u001b[0m\u001b[1;33m,\u001b[0m \u001b[0murl\u001b[0m\u001b[1;33m,\u001b[0m \u001b[0mbody\u001b[0m\u001b[1;33m=\u001b[0m\u001b[1;32mNone\u001b[0m\u001b[1;33m)\u001b[0m\u001b[1;33m:\u001b[0m\u001b[1;33m\u001b[0m\u001b[1;33m\u001b[0m\u001b[0m\n",
      "\u001b[1;32m~\\anaconda3\\lib\\site-packages\\selenium\\webdriver\\remote\\remote_connection.py\u001b[0m in \u001b[0;36m_request\u001b[1;34m(self, method, url, body)\u001b[0m\n\u001b[0;32m    316\u001b[0m \u001b[1;33m\u001b[0m\u001b[0m\n\u001b[0;32m    317\u001b[0m         \u001b[1;32mif\u001b[0m \u001b[0mself\u001b[0m\u001b[1;33m.\u001b[0m\u001b[0mkeep_alive\u001b[0m\u001b[1;33m:\u001b[0m\u001b[1;33m\u001b[0m\u001b[1;33m\u001b[0m\u001b[0m\n\u001b[1;32m--> 318\u001b[1;33m             \u001b[0mresponse\u001b[0m \u001b[1;33m=\u001b[0m \u001b[0mself\u001b[0m\u001b[1;33m.\u001b[0m\u001b[0m_conn\u001b[0m\u001b[1;33m.\u001b[0m\u001b[0mrequest\u001b[0m\u001b[1;33m(\u001b[0m\u001b[0mmethod\u001b[0m\u001b[1;33m,\u001b[0m \u001b[0murl\u001b[0m\u001b[1;33m,\u001b[0m \u001b[0mbody\u001b[0m\u001b[1;33m=\u001b[0m\u001b[0mbody\u001b[0m\u001b[1;33m,\u001b[0m \u001b[0mheaders\u001b[0m\u001b[1;33m=\u001b[0m\u001b[0mheaders\u001b[0m\u001b[1;33m)\u001b[0m\u001b[1;33m\u001b[0m\u001b[1;33m\u001b[0m\u001b[0m\n\u001b[0m\u001b[0;32m    319\u001b[0m             \u001b[0mstatuscode\u001b[0m \u001b[1;33m=\u001b[0m \u001b[0mresponse\u001b[0m\u001b[1;33m.\u001b[0m\u001b[0mstatus\u001b[0m\u001b[1;33m\u001b[0m\u001b[1;33m\u001b[0m\u001b[0m\n\u001b[0;32m    320\u001b[0m         \u001b[1;32melse\u001b[0m\u001b[1;33m:\u001b[0m\u001b[1;33m\u001b[0m\u001b[1;33m\u001b[0m\u001b[0m\n",
      "\u001b[1;32m~\\anaconda3\\lib\\site-packages\\urllib3\\request.py\u001b[0m in \u001b[0;36mrequest\u001b[1;34m(self, method, url, fields, headers, **urlopen_kw)\u001b[0m\n\u001b[0;32m     76\u001b[0m             )\n\u001b[0;32m     77\u001b[0m         \u001b[1;32melse\u001b[0m\u001b[1;33m:\u001b[0m\u001b[1;33m\u001b[0m\u001b[1;33m\u001b[0m\u001b[0m\n\u001b[1;32m---> 78\u001b[1;33m             return self.request_encode_body(\n\u001b[0m\u001b[0;32m     79\u001b[0m                 \u001b[0mmethod\u001b[0m\u001b[1;33m,\u001b[0m \u001b[0murl\u001b[0m\u001b[1;33m,\u001b[0m \u001b[0mfields\u001b[0m\u001b[1;33m=\u001b[0m\u001b[0mfields\u001b[0m\u001b[1;33m,\u001b[0m \u001b[0mheaders\u001b[0m\u001b[1;33m=\u001b[0m\u001b[0mheaders\u001b[0m\u001b[1;33m,\u001b[0m \u001b[1;33m**\u001b[0m\u001b[0murlopen_kw\u001b[0m\u001b[1;33m\u001b[0m\u001b[1;33m\u001b[0m\u001b[0m\n\u001b[0;32m     80\u001b[0m             )\n",
      "\u001b[1;32m~\\anaconda3\\lib\\site-packages\\urllib3\\request.py\u001b[0m in \u001b[0;36mrequest_encode_body\u001b[1;34m(self, method, url, fields, headers, encode_multipart, multipart_boundary, **urlopen_kw)\u001b[0m\n\u001b[0;32m    168\u001b[0m         \u001b[0mextra_kw\u001b[0m\u001b[1;33m.\u001b[0m\u001b[0mupdate\u001b[0m\u001b[1;33m(\u001b[0m\u001b[0murlopen_kw\u001b[0m\u001b[1;33m)\u001b[0m\u001b[1;33m\u001b[0m\u001b[1;33m\u001b[0m\u001b[0m\n\u001b[0;32m    169\u001b[0m \u001b[1;33m\u001b[0m\u001b[0m\n\u001b[1;32m--> 170\u001b[1;33m         \u001b[1;32mreturn\u001b[0m \u001b[0mself\u001b[0m\u001b[1;33m.\u001b[0m\u001b[0murlopen\u001b[0m\u001b[1;33m(\u001b[0m\u001b[0mmethod\u001b[0m\u001b[1;33m,\u001b[0m \u001b[0murl\u001b[0m\u001b[1;33m,\u001b[0m \u001b[1;33m**\u001b[0m\u001b[0mextra_kw\u001b[0m\u001b[1;33m)\u001b[0m\u001b[1;33m\u001b[0m\u001b[1;33m\u001b[0m\u001b[0m\n\u001b[0m",
      "\u001b[1;32m~\\anaconda3\\lib\\site-packages\\urllib3\\poolmanager.py\u001b[0m in \u001b[0;36murlopen\u001b[1;34m(self, method, url, redirect, **kw)\u001b[0m\n\u001b[0;32m    374\u001b[0m             \u001b[0mresponse\u001b[0m \u001b[1;33m=\u001b[0m \u001b[0mconn\u001b[0m\u001b[1;33m.\u001b[0m\u001b[0murlopen\u001b[0m\u001b[1;33m(\u001b[0m\u001b[0mmethod\u001b[0m\u001b[1;33m,\u001b[0m \u001b[0murl\u001b[0m\u001b[1;33m,\u001b[0m \u001b[1;33m**\u001b[0m\u001b[0mkw\u001b[0m\u001b[1;33m)\u001b[0m\u001b[1;33m\u001b[0m\u001b[1;33m\u001b[0m\u001b[0m\n\u001b[0;32m    375\u001b[0m         \u001b[1;32melse\u001b[0m\u001b[1;33m:\u001b[0m\u001b[1;33m\u001b[0m\u001b[1;33m\u001b[0m\u001b[0m\n\u001b[1;32m--> 376\u001b[1;33m             \u001b[0mresponse\u001b[0m \u001b[1;33m=\u001b[0m \u001b[0mconn\u001b[0m\u001b[1;33m.\u001b[0m\u001b[0murlopen\u001b[0m\u001b[1;33m(\u001b[0m\u001b[0mmethod\u001b[0m\u001b[1;33m,\u001b[0m \u001b[0mu\u001b[0m\u001b[1;33m.\u001b[0m\u001b[0mrequest_uri\u001b[0m\u001b[1;33m,\u001b[0m \u001b[1;33m**\u001b[0m\u001b[0mkw\u001b[0m\u001b[1;33m)\u001b[0m\u001b[1;33m\u001b[0m\u001b[1;33m\u001b[0m\u001b[0m\n\u001b[0m\u001b[0;32m    377\u001b[0m \u001b[1;33m\u001b[0m\u001b[0m\n\u001b[0;32m    378\u001b[0m         \u001b[0mredirect_location\u001b[0m \u001b[1;33m=\u001b[0m \u001b[0mredirect\u001b[0m \u001b[1;32mand\u001b[0m \u001b[0mresponse\u001b[0m\u001b[1;33m.\u001b[0m\u001b[0mget_redirect_location\u001b[0m\u001b[1;33m(\u001b[0m\u001b[1;33m)\u001b[0m\u001b[1;33m\u001b[0m\u001b[1;33m\u001b[0m\u001b[0m\n",
      "\u001b[1;32m~\\anaconda3\\lib\\site-packages\\urllib3\\connectionpool.py\u001b[0m in \u001b[0;36murlopen\u001b[1;34m(self, method, url, body, headers, retries, redirect, assert_same_host, timeout, pool_timeout, release_conn, chunked, body_pos, **response_kw)\u001b[0m\n\u001b[0;32m    701\u001b[0m \u001b[1;33m\u001b[0m\u001b[0m\n\u001b[0;32m    702\u001b[0m             \u001b[1;31m# Make the request on the httplib connection object.\u001b[0m\u001b[1;33m\u001b[0m\u001b[1;33m\u001b[0m\u001b[0m\n\u001b[1;32m--> 703\u001b[1;33m             httplib_response = self._make_request(\n\u001b[0m\u001b[0;32m    704\u001b[0m                 \u001b[0mconn\u001b[0m\u001b[1;33m,\u001b[0m\u001b[1;33m\u001b[0m\u001b[1;33m\u001b[0m\u001b[0m\n\u001b[0;32m    705\u001b[0m                 \u001b[0mmethod\u001b[0m\u001b[1;33m,\u001b[0m\u001b[1;33m\u001b[0m\u001b[1;33m\u001b[0m\u001b[0m\n",
      "\u001b[1;32m~\\anaconda3\\lib\\site-packages\\urllib3\\connectionpool.py\u001b[0m in \u001b[0;36m_make_request\u001b[1;34m(self, conn, method, url, timeout, chunked, **httplib_request_kw)\u001b[0m\n\u001b[0;32m    447\u001b[0m                     \u001b[1;31m# Python 3 (including for exceptions like SystemExit).\u001b[0m\u001b[1;33m\u001b[0m\u001b[1;33m\u001b[0m\u001b[0m\n\u001b[0;32m    448\u001b[0m                     \u001b[1;31m# Otherwise it looks like a bug in the code.\u001b[0m\u001b[1;33m\u001b[0m\u001b[1;33m\u001b[0m\u001b[0m\n\u001b[1;32m--> 449\u001b[1;33m                     \u001b[0msix\u001b[0m\u001b[1;33m.\u001b[0m\u001b[0mraise_from\u001b[0m\u001b[1;33m(\u001b[0m\u001b[0me\u001b[0m\u001b[1;33m,\u001b[0m \u001b[1;32mNone\u001b[0m\u001b[1;33m)\u001b[0m\u001b[1;33m\u001b[0m\u001b[1;33m\u001b[0m\u001b[0m\n\u001b[0m\u001b[0;32m    450\u001b[0m         \u001b[1;32mexcept\u001b[0m \u001b[1;33m(\u001b[0m\u001b[0mSocketTimeout\u001b[0m\u001b[1;33m,\u001b[0m \u001b[0mBaseSSLError\u001b[0m\u001b[1;33m,\u001b[0m \u001b[0mSocketError\u001b[0m\u001b[1;33m)\u001b[0m \u001b[1;32mas\u001b[0m \u001b[0me\u001b[0m\u001b[1;33m:\u001b[0m\u001b[1;33m\u001b[0m\u001b[1;33m\u001b[0m\u001b[0m\n\u001b[0;32m    451\u001b[0m             \u001b[0mself\u001b[0m\u001b[1;33m.\u001b[0m\u001b[0m_raise_timeout\u001b[0m\u001b[1;33m(\u001b[0m\u001b[0merr\u001b[0m\u001b[1;33m=\u001b[0m\u001b[0me\u001b[0m\u001b[1;33m,\u001b[0m \u001b[0murl\u001b[0m\u001b[1;33m=\u001b[0m\u001b[0murl\u001b[0m\u001b[1;33m,\u001b[0m \u001b[0mtimeout_value\u001b[0m\u001b[1;33m=\u001b[0m\u001b[0mread_timeout\u001b[0m\u001b[1;33m)\u001b[0m\u001b[1;33m\u001b[0m\u001b[1;33m\u001b[0m\u001b[0m\n",
      "\u001b[1;32m~\\anaconda3\\lib\\site-packages\\urllib3\\packages\\six.py\u001b[0m in \u001b[0;36mraise_from\u001b[1;34m(value, from_value)\u001b[0m\n",
      "\u001b[1;32m~\\anaconda3\\lib\\site-packages\\urllib3\\connectionpool.py\u001b[0m in \u001b[0;36m_make_request\u001b[1;34m(self, conn, method, url, timeout, chunked, **httplib_request_kw)\u001b[0m\n\u001b[0;32m    442\u001b[0m                 \u001b[1;31m# Python 3\u001b[0m\u001b[1;33m\u001b[0m\u001b[1;33m\u001b[0m\u001b[0m\n\u001b[0;32m    443\u001b[0m                 \u001b[1;32mtry\u001b[0m\u001b[1;33m:\u001b[0m\u001b[1;33m\u001b[0m\u001b[1;33m\u001b[0m\u001b[0m\n\u001b[1;32m--> 444\u001b[1;33m                     \u001b[0mhttplib_response\u001b[0m \u001b[1;33m=\u001b[0m \u001b[0mconn\u001b[0m\u001b[1;33m.\u001b[0m\u001b[0mgetresponse\u001b[0m\u001b[1;33m(\u001b[0m\u001b[1;33m)\u001b[0m\u001b[1;33m\u001b[0m\u001b[1;33m\u001b[0m\u001b[0m\n\u001b[0m\u001b[0;32m    445\u001b[0m                 \u001b[1;32mexcept\u001b[0m \u001b[0mBaseException\u001b[0m \u001b[1;32mas\u001b[0m \u001b[0me\u001b[0m\u001b[1;33m:\u001b[0m\u001b[1;33m\u001b[0m\u001b[1;33m\u001b[0m\u001b[0m\n\u001b[0;32m    446\u001b[0m                     \u001b[1;31m# Remove the TypeError from the exception chain in\u001b[0m\u001b[1;33m\u001b[0m\u001b[1;33m\u001b[0m\u001b[0m\n",
      "\u001b[1;32m~\\anaconda3\\lib\\http\\client.py\u001b[0m in \u001b[0;36mgetresponse\u001b[1;34m(self)\u001b[0m\n\u001b[0;32m   1375\u001b[0m         \u001b[1;32mtry\u001b[0m\u001b[1;33m:\u001b[0m\u001b[1;33m\u001b[0m\u001b[1;33m\u001b[0m\u001b[0m\n\u001b[0;32m   1376\u001b[0m             \u001b[1;32mtry\u001b[0m\u001b[1;33m:\u001b[0m\u001b[1;33m\u001b[0m\u001b[1;33m\u001b[0m\u001b[0m\n\u001b[1;32m-> 1377\u001b[1;33m                 \u001b[0mresponse\u001b[0m\u001b[1;33m.\u001b[0m\u001b[0mbegin\u001b[0m\u001b[1;33m(\u001b[0m\u001b[1;33m)\u001b[0m\u001b[1;33m\u001b[0m\u001b[1;33m\u001b[0m\u001b[0m\n\u001b[0m\u001b[0;32m   1378\u001b[0m             \u001b[1;32mexcept\u001b[0m \u001b[0mConnectionError\u001b[0m\u001b[1;33m:\u001b[0m\u001b[1;33m\u001b[0m\u001b[1;33m\u001b[0m\u001b[0m\n\u001b[0;32m   1379\u001b[0m                 \u001b[0mself\u001b[0m\u001b[1;33m.\u001b[0m\u001b[0mclose\u001b[0m\u001b[1;33m(\u001b[0m\u001b[1;33m)\u001b[0m\u001b[1;33m\u001b[0m\u001b[1;33m\u001b[0m\u001b[0m\n",
      "\u001b[1;32m~\\anaconda3\\lib\\http\\client.py\u001b[0m in \u001b[0;36mbegin\u001b[1;34m(self)\u001b[0m\n\u001b[0;32m    318\u001b[0m         \u001b[1;31m# read until we get a non-100 response\u001b[0m\u001b[1;33m\u001b[0m\u001b[1;33m\u001b[0m\u001b[0m\n\u001b[0;32m    319\u001b[0m         \u001b[1;32mwhile\u001b[0m \u001b[1;32mTrue\u001b[0m\u001b[1;33m:\u001b[0m\u001b[1;33m\u001b[0m\u001b[1;33m\u001b[0m\u001b[0m\n\u001b[1;32m--> 320\u001b[1;33m             \u001b[0mversion\u001b[0m\u001b[1;33m,\u001b[0m \u001b[0mstatus\u001b[0m\u001b[1;33m,\u001b[0m \u001b[0mreason\u001b[0m \u001b[1;33m=\u001b[0m \u001b[0mself\u001b[0m\u001b[1;33m.\u001b[0m\u001b[0m_read_status\u001b[0m\u001b[1;33m(\u001b[0m\u001b[1;33m)\u001b[0m\u001b[1;33m\u001b[0m\u001b[1;33m\u001b[0m\u001b[0m\n\u001b[0m\u001b[0;32m    321\u001b[0m             \u001b[1;32mif\u001b[0m \u001b[0mstatus\u001b[0m \u001b[1;33m!=\u001b[0m \u001b[0mCONTINUE\u001b[0m\u001b[1;33m:\u001b[0m\u001b[1;33m\u001b[0m\u001b[1;33m\u001b[0m\u001b[0m\n\u001b[0;32m    322\u001b[0m                 \u001b[1;32mbreak\u001b[0m\u001b[1;33m\u001b[0m\u001b[1;33m\u001b[0m\u001b[0m\n",
      "\u001b[1;32m~\\anaconda3\\lib\\http\\client.py\u001b[0m in \u001b[0;36m_read_status\u001b[1;34m(self)\u001b[0m\n\u001b[0;32m    279\u001b[0m \u001b[1;33m\u001b[0m\u001b[0m\n\u001b[0;32m    280\u001b[0m     \u001b[1;32mdef\u001b[0m \u001b[0m_read_status\u001b[0m\u001b[1;33m(\u001b[0m\u001b[0mself\u001b[0m\u001b[1;33m)\u001b[0m\u001b[1;33m:\u001b[0m\u001b[1;33m\u001b[0m\u001b[1;33m\u001b[0m\u001b[0m\n\u001b[1;32m--> 281\u001b[1;33m         \u001b[0mline\u001b[0m \u001b[1;33m=\u001b[0m \u001b[0mstr\u001b[0m\u001b[1;33m(\u001b[0m\u001b[0mself\u001b[0m\u001b[1;33m.\u001b[0m\u001b[0mfp\u001b[0m\u001b[1;33m.\u001b[0m\u001b[0mreadline\u001b[0m\u001b[1;33m(\u001b[0m\u001b[0m_MAXLINE\u001b[0m \u001b[1;33m+\u001b[0m \u001b[1;36m1\u001b[0m\u001b[1;33m)\u001b[0m\u001b[1;33m,\u001b[0m \u001b[1;34m\"iso-8859-1\"\u001b[0m\u001b[1;33m)\u001b[0m\u001b[1;33m\u001b[0m\u001b[1;33m\u001b[0m\u001b[0m\n\u001b[0m\u001b[0;32m    282\u001b[0m         \u001b[1;32mif\u001b[0m \u001b[0mlen\u001b[0m\u001b[1;33m(\u001b[0m\u001b[0mline\u001b[0m\u001b[1;33m)\u001b[0m \u001b[1;33m>\u001b[0m \u001b[0m_MAXLINE\u001b[0m\u001b[1;33m:\u001b[0m\u001b[1;33m\u001b[0m\u001b[1;33m\u001b[0m\u001b[0m\n\u001b[0;32m    283\u001b[0m             \u001b[1;32mraise\u001b[0m \u001b[0mLineTooLong\u001b[0m\u001b[1;33m(\u001b[0m\u001b[1;34m\"status line\"\u001b[0m\u001b[1;33m)\u001b[0m\u001b[1;33m\u001b[0m\u001b[1;33m\u001b[0m\u001b[0m\n",
      "\u001b[1;32m~\\anaconda3\\lib\\socket.py\u001b[0m in \u001b[0;36mreadinto\u001b[1;34m(self, b)\u001b[0m\n\u001b[0;32m    702\u001b[0m         \u001b[1;32mwhile\u001b[0m \u001b[1;32mTrue\u001b[0m\u001b[1;33m:\u001b[0m\u001b[1;33m\u001b[0m\u001b[1;33m\u001b[0m\u001b[0m\n\u001b[0;32m    703\u001b[0m             \u001b[1;32mtry\u001b[0m\u001b[1;33m:\u001b[0m\u001b[1;33m\u001b[0m\u001b[1;33m\u001b[0m\u001b[0m\n\u001b[1;32m--> 704\u001b[1;33m                 \u001b[1;32mreturn\u001b[0m \u001b[0mself\u001b[0m\u001b[1;33m.\u001b[0m\u001b[0m_sock\u001b[0m\u001b[1;33m.\u001b[0m\u001b[0mrecv_into\u001b[0m\u001b[1;33m(\u001b[0m\u001b[0mb\u001b[0m\u001b[1;33m)\u001b[0m\u001b[1;33m\u001b[0m\u001b[1;33m\u001b[0m\u001b[0m\n\u001b[0m\u001b[0;32m    705\u001b[0m             \u001b[1;32mexcept\u001b[0m \u001b[0mtimeout\u001b[0m\u001b[1;33m:\u001b[0m\u001b[1;33m\u001b[0m\u001b[1;33m\u001b[0m\u001b[0m\n\u001b[0;32m    706\u001b[0m                 \u001b[0mself\u001b[0m\u001b[1;33m.\u001b[0m\u001b[0m_timeout_occurred\u001b[0m \u001b[1;33m=\u001b[0m \u001b[1;32mTrue\u001b[0m\u001b[1;33m\u001b[0m\u001b[1;33m\u001b[0m\u001b[0m\n",
      "\u001b[1;31mKeyboardInterrupt\u001b[0m: "
     ]
    }
   ],
   "source": [
    "url ='https://www.opentable.com/r/hard-rock-cafe-paris?corrid=048b467e-411f-4336-b935-ecfaf102449e&avt=eyJ2IjoyLCJtIjoxLCJwIjowLCJzIjowLCJuIjowfQ&p=2&sd=2023-12-15T19%3A00%3A00'\n",
    "data = getData(url)\n",
    "print(data)"
   ]
  },
  {
   "cell_type": "code",
   "execution_count": 120,
   "id": "a1e783fb",
   "metadata": {
    "scrolled": true
   },
   "outputs": [
    {
     "name": "stdout",
     "output_type": "stream",
     "text": [
      "[{'@type': 'Menu', 'name': 'Hard Rock Cafe Menu', 'hasMenuSection': [{'@type': 'MenuSection', 'name': 'STARTERS &amp; SHAREABLES', 'description': None, 'hasMenuItem': [{'@type': 'MenuItem', 'name': 'CLASSIC NACHOS', 'description': 'Crisp tortilla chips layered with ranch-style beans and a four-cheese sauce blend, topped with fresh pico de gallo, spicy jalapeños, melted cheddar and Monterey Jack cheese, pickled red onions and scallions, served with sour cream on the side.\\nAdd Guacamole, Grilled Chicken, or Grilled Steak for an additional cost.'}, {'@type': 'MenuItem', 'name': 'ONE NIGHT IN BANGKOK SPICY SHRIMPTM', 'description': 'Crispy shrimp, tossed in a creamy, spicy sauce, topped with green onions, served on a bed of creamy coleslaw.'}, {'@type': 'MenuItem', 'name': 'WINGS', 'description': 'Our signature slow-roasted jumbo wings tossed with your choice of classic buffalo, sweet &amp; spicy tangy, or house-made barbecue sauce, served with celery and blue cheese dressing.'}, {'@type': 'MenuItem', 'name': 'BONELESS WINGS', 'description': 'Crispy chicken thighs tossed with your choice of classic Buffalo, sweet &amp; spicy tangy, or house-made barbecue sauce, served with celery and blue cheese dressing.'}, {'@type': 'MenuItem', 'name': 'ALL-AMERICAN SLIDERS', 'description': 'Three mini-burgers with melted American cheese, crispy onion ring and creamy coleslaw on a toasted brioche bun.'}, {'@type': 'MenuItem', 'name': 'BALSAMIC TOMATO BRUSCHETTA', 'description': 'Roma Tomatoes marinated in balsamic vinegar and fresh basil topped with grated Romano served with a stack of toasted artisan bread and shaved Parmesan on the side.'}]}, {'@type': 'MenuSection', 'name': 'LEGENDARY® STEAK BURGERS', 'description': 'All Legendary® Steak Burgers are served with fresh toasted buns and seasoned fries. Upgrade your fries to loaded cheese fries for more.', 'hasMenuItem': [{'@type': 'MenuItem', 'name': 'ORIGINAL LEGENDARY® BURGER', 'description': 'The burger that started it all! Fresh steak burger, with smoked bacon, Cheddar cheese, crispy onion ring, leaf lettuce and vine-ripened tomato.'}, {'@type': 'MenuItem', 'name': 'BBQ BACON CHEESEBURGER', 'description': 'Fresh steak burger, seasoned and seared with a signature spice blend, topped with house-made barbecue sauce, crispy shoestring onions, Cheddar cheese, smoked bacon, leaf lettuce and vine-ripened tomato.'}, {'@type': 'MenuItem', 'name': 'THE BIG CHEESEBURGER', 'description': 'Three slices of Cheddar cheese melted on our fresh steak burger, served with leaf lettuce, vine-ripened tomato and red onion.'}, {'@type': 'MenuItem', 'name': 'DOUBLE DECKER DOUBLE CHEESEBURGER', 'description': 'A tribute to our 1971 \"Down Home Double Burger\". Two stacked steak burgers with American cheese, mayonnaise, leaf lettuce, vine-ripened tomato and red onion.'}, {'@type': 'MenuItem', 'name': 'MOVING MOUNTAINS® BURGER', 'description': '100% plant-based patty, topped with Cheddar cheese and a crispy onion ring, served with leaf lettuce and vine-ripened tomato.'}, {'@type': 'MenuItem', 'name': 'SURF &amp; TURF BURGER', 'description': 'Our signature steak burger topped with One Night in Bangkok Spicy ShrimpTM on a bed of spicy slaw.'}, {'@type': 'MenuItem', 'name': 'COUNTRY BURGER', 'description': 'Two smashed &amp; stacked burgers seasoned and seared medium-well, with American cheese, leaf lettuce, vine-ripened tomato, red onion, pickles and house-made burger sauce.'}, {'@type': 'MenuItem', 'name': 'SWISS MUSHROOM BURGER', 'description': 'Two smashed &amp; stacked burgers seasoned and seared medium-well, with Swiss cheese, sautéed mushrooms, leaf lettuce, vine-ripened tomato, and mayonnaise.'}, {'@type': 'MenuItem', 'name': 'SPICY DIABLO BURGER', 'description': 'Two smashed &amp; stacked burgers seasoned and seared medium-well, with Monterey Jack cheese, pickled jalapeños, leaf lettuce, vine-ripened tomato, and spicy mayonnaise.'}]}, {'@type': 'MenuSection', 'name': 'SANDWICHES', 'description': 'Served with seasoned fries or upgrade to Cheese Fries with Applewood Bacon.', 'hasMenuItem': [{'@type': 'MenuItem', 'name': 'BBQ PULLED PORK SANDWICH', 'description': 'Hand-pulled smoked pork with our house-made barbecue sauce, served on a toasted fresh brioche bun with coleslaw and pickles.'}, {'@type': 'MenuItem', 'name': 'GRILLED CHICKEN SANDWICH', 'description': 'Grilled chicken with melted Monterey Jack cheese, smoked bacon, leaf lettuce and vine-ripened\\ntomato, served on a toasted fresh brioche bun with honey mustard sauce.'}, {'@type': 'MenuItem', 'name': 'FRIED CHICKEN SANDWICH', 'description': 'Crispy buttermilk-marinated chicken breast with leaf lettuce, vine-ripened tomato and ranch dressing, served on a toasted fresh brioche bun.'}, {'@type': 'MenuItem', 'name': 'BUFFALO CHICKEN SANDWICH', 'description': 'Buttermilk-marinated fried chicken tossed with our classic Buffalo sauce with leaf lettuce, vine-ripened tomato and ranch dressing, served on a toasted fresh brioche bun.'}]}, {'@type': 'MenuSection', 'name': 'SALADS &amp; BOWLS', 'description': None, 'hasMenuItem': [{'@type': 'MenuItem', 'name': 'GRILLED CHICKEN CAESAR SALAD', 'description': 'Chicken breast, grilled and sliced with fresh romaine tossed in a classic Caesar dressing, topped with parmesan crisps, croutons and shaved parmesan cheese.\\nSubstitute Grilled Salmon for an additional cost'}, {'@type': 'MenuItem', 'name': 'GRILLED SALMON NOODLE BOWL', 'description': 'Ramen noodles tossed in a sesame-soy dressing over a bed of mixed greens topped with edamame,\\njulienned carrots, red peppers, red cabbage, and green onions, served with grilled salmon. Substitute Grilled Chicken or Grilled Steak for an additional cost.'}, {'@type': 'MenuItem', 'name': 'SOUTHWESTERN CHICKEN BOWL', 'description': 'Fajita-spiced chicken, quinoa corn salad, pico de gallo, seasoned black beans and red cabbage served on mixed greens tossed in guacamole ranch dressing. Substitute Grilled Steak for an additional cost.'}, {'@type': 'MenuItem', 'name': 'STEAK SALAD', 'description': 'Grilled steak on a bed of fresh mixed greens tossed in a blue cheese vinaigrette, with pickled red onions, red peppers and Roma tomatoes, finished with crispy shoestring onions and blue cheese crumbles.'}]}, {'@type': 'MenuSection', 'name': 'SPECIALTY ENTRÉES', 'description': None, 'hasMenuItem': [{'@type': 'MenuItem', 'name': 'COWBOY RIBEYE', 'description': \"397g grilled ribeye topped with herb butter, served with golden mashed potatoes and fresh vegetables. Enjoy Surf n' Turf style with One Night in Bangkok Spicy ShrimpTM for an additional cost.\"}, {'@type': 'MenuItem', 'name': 'NEW YORK STRIP STEAK', 'description': \"340g New York strip steak, grilled and topped with herb butter, served with golden mashed potatoes and fresh vegetables. Enjoy Surf n' Turf style with One Night in Bagkok Spicy ShrimpTM for an additional cost.\"}, {'@type': 'MenuItem', 'name': 'FAMOUS FAJITAS', 'description': 'Classic Tex-Mex-style fajitas, served with fresh pico de gallo, Monterey Jack and cheddar cheese, house-made guacamole, sour cream and warm tortillas. Available with: Grilled Chicken, Grilled Steak, Duo Combo, or Veggie Fajitas.'}, {'@type': 'MenuItem', 'name': 'BABY BACK RIBS', 'description': 'Seasoned with our signature spice blend, then glazed with our house-made barbecue sauce and grilled to perfection, served with seasoned fries, coleslaw and ranch-style beans.'}, {'@type': 'MenuItem', 'name': 'TWISTED MAC, CHICKEN &amp; CHEESE', 'description': 'Grilled chicken breast, sliced and served on cavatappi pasta tossed in a four-cheese sauce blend with diced red peppers.'}, {'@type': 'MenuItem', 'name': 'SMOKEHOUSE BBQ COMBO', 'description': 'Choose from slow-cooked Baby Back Ribs, Barbecue Chicken, or hand-pulled smoked pork served with our house-made barbecue sauce. The perfect combination of our smokehouse specialties, served with seasoned fries, coleslaw and ranch-style beans.'}, {'@type': 'MenuItem', 'name': 'CEDAR PLANK SALMON', 'description': 'Norwegian Salmon chargrilled on a cedar plank with sweet &amp; spicy mustard glaze, served with mashed potatoes and fresh vegetables.'}, {'@type': 'MenuItem', 'name': 'TUPELO CHICKEN TENDERS', 'description': 'Crispy, fresh chicken tenders served with seasoned fries, honey mustard and our house-made barbecue sauce.'}, {'@type': 'MenuItem', 'name': 'BARBECUE CHICKEN', 'description': 'Half chicken, brined then basted with our house-made  barbecue sauce and roasted until fork-tender. Served with seasoned fries, coleslaw and ranch-style beans.'}]}, {'@type': 'MenuSection', 'name': 'PREMIUM SIDES SERVED À LA CARTE', 'description': None, 'hasMenuItem': [{'@type': 'MenuItem', 'name': 'SEASONED FRIES', 'description': None}, {'@type': 'MenuItem', 'name': 'FRESH VEGETABLES', 'description': None}, {'@type': 'MenuItem', 'name': 'TWISTED MAC &amp; CHEESE', 'description': None}, {'@type': 'MenuItem', 'name': 'GOLDEN ONION RING TOWER', 'description': None}, {'@type': 'MenuItem', 'name': 'GOLDEN MASHED POTATOES', 'description': None}, {'@type': 'MenuItem', 'name': 'SIDE CAESAR SALAD', 'description': None}, {'@type': 'MenuItem', 'name': 'SIDE HOUSE SALAD', 'description': None}]}, {'@type': 'MenuSection', 'name': 'DESSERTS', 'description': None, 'hasMenuItem': [{'@type': 'MenuItem', 'name': 'HOT FUDGE BROWNIE', 'description': 'Warm chocolate brownie topped with vanilla bean ice cream, hot fudge, chocolate sprinkles, fresh whipped cream and a cherry.'}, {'@type': 'MenuItem', 'name': 'NEW YORK CHEESECAKE', 'description': 'Rich and creamy NY-style cheesecake served with a fresh strawberry sauce and fresh whipped cream.'}, {'@type': 'MenuItem', 'name': 'HOMEMADE APPLE COBBLER', 'description': 'Old-fashioned apple cobbler with warm Granny Smith apples, baked until golden brown and topped with vanilla bean ice cream and caramel sauce.'}, {'@type': 'MenuItem', 'name': 'ICE CREAM', 'description': 'Choose from Madagascar vanilla bean or rich chocolate.'}, {'@type': 'MenuItem', 'name': 'DINER-STYLE MILKSHAKES', 'description': 'Your choice of Madagascar vanilla bean or rich chocolate ice cream blended thick and finished with fresh whipped cream.'}]}, {'@type': 'MenuSection', 'name': 'SIGNATURE COCKTAILS', 'description': None, 'hasMenuItem': [{'@type': 'MenuItem', 'name': 'HURRICANE', 'description': 'Our signature cocktail and a 1940s New Orleans classic!\\nBacardi Superior Rum, a blend of orange, mango, pineapple juice and grenadine, finished with a float of\\nCaptain Morgan Dark Rum and Amaretto.'}, {'@type': 'MenuItem', 'name': 'CLASSIC CARIBBEAN MOJITO', 'description': 'A treasured favorite with a little extra jazz!\\nA traditional blend of Bacardi Superior Rum, fresh mint and lime, sparkling soda with a premium Bacardi Añejo Cuatro floater.'}, {'@type': 'MenuItem', 'name': 'PASSION FRUIT MAI TAI', 'description': 'A Tiki classic invented in the 1940s in California! Sailor Jerry Spiced Rum, passion fruit and a blend of traditional Tiki flavors, topped with a pineapple wedge.'}, {'@type': 'MenuItem', 'name': 'RHYTHM &amp; ROSÉ MULE', 'description': 'Absolut Vodka and crisp Rosé, with the refreshing flavours of passion fruit, green tea and lime finished with Fever-Tree Ginger Beer, served in our signature Mule Mug.'}, {'@type': 'MenuItem', 'name': 'BAHAMA MAMA', 'description': 'Bacardi Superior Rum, Malibu Coconut, De Kuyper Crème De Banana, grenadine, pineapple and orange\\njuice.'}]}, {'@type': 'MenuSection', 'name': 'CLASSIC COCKTAILS', 'description': None, 'hasMenuItem': [{'@type': 'MenuItem', 'name': 'SMOKED OLD FASHIONED', 'description': 'A smoky version of an 1800s vintage whisky beverage.\\nBulleit Bourbon, house-made brown sugar\\nsimple syrup, cherry bitters and a cherry garnish.'}, {'@type': 'MenuItem', 'name': 'PALOMA', 'description': 'A refreshing classic Mexican cocktail.\\nCazadores Tequila with grapefruit juice, Monin Agave Syrup and a\\nhint of lime, topped with club soda.'}, {'@type': 'MenuItem', 'name': 'DIRTY MARTINI', 'description': 'Ketel One Vodka, olive juice, Dry Vermouth, shaken and\\ngarnished with green pitted olives.'}, {'@type': 'MenuItem', 'name': 'COSMOPOLITAN', 'description': 'Ketel One Vodka, Cointreau, lime and cranberry juices,\\nshaken and served chilled.'}, {'@type': 'MenuItem', 'name': 'WHISKEY SOUR', 'description': 'A favourite amongst sailors in the 1800s and beyond.\\nBulleit Bourbon, lime juice and egg whites shaken until frothy\\nand chilled.'}, {'@type': 'MenuItem', 'name': 'GIN &amp; TONIC', 'description': \"Originally served for medicinal purposes, this 'G&amp;T'\\nis just what the doctor ordered!\\nHendrick's Gin and Fever-Tree Elderflower Tonic, served with\\njuniper berries, cucumber &amp; lime.\"}, {'@type': 'MenuItem', 'name': 'ESPRESSO MARTINI', 'description': 'Ketel One Vodka, Kahlúa Coffee Liqueur and fresh brewed espresso,\\nshaken until frothy and chilled'}, {'@type': 'MenuItem', 'name': 'MANHATTAN', 'description': 'A NYC classic originating in the 1800s.\\nBulleit Bourbon, Antica Sweet Vermouth, cherry bitters and finished\\nwith a cherry garnish.'}]}, {'@type': 'MenuSection', 'name': 'JAM SESSIONS', 'description': None, 'hasMenuItem': [{'@type': 'MenuItem', 'name': 'SOUTHERN ROCK', 'description': \"Jack Daniel's Tennessee Whiskey, Southern Comfort, Chambord Raspberry Liqueur and Smirnoff Vodka, mixed with sweet &amp; sour and topped with Sprite.\"}, {'@type': 'MenuItem', 'name': \"ROCKIN' FRESH RITA\", 'description': 'Jose Cuervo Silver Tequila, lime juice and agave nectar, finished with our signature sweet and savoury rim.'}, {'@type': 'MenuItem', 'name': 'TROPICAL MARGARITA', 'description': 'Jose Cuervo Silver Tequila, house-infused with fresh strawberries, Cointreau Orange Liqueur, and the fresh flavours of guava, pineapple and lime juice.'}, {'@type': 'MenuItem', 'name': 'ELECTRIC BLUES', 'description': 'Smirnoff Vodka, Bacardi Superior Rum, Beefeater Gin and De Kuyper Blue Curaçao with sweet &amp; sour and topped with Red Bull® Yellow Edition.'}, {'@type': 'MenuItem', 'name': 'BLACKBERRY SPARKLING SANGRIA', 'description': 'A signature blend of red wine, the fresh flavours of blackberries, cranberry juice and squeeze of orange, topped with sparkling wine.'}, {'@type': 'MenuItem', 'name': 'PURPLE HAZE', 'description': 'Smirnoff Vodka, Beefeater Gin and Bacardi Superior Rum mixed with sweet &amp; sour, topped with Sprite and Chambord Raspberry Liqueur.'}, {'@type': 'MenuItem', 'name': 'ULTIMATE LONG ISLAND ICED TEA', 'description': \"Tito's Handmade Vodka, Bombay Sapphire Gin, Sailor Jerry Spiced Rum, Cointreau Orange Liqueur, house-made sour mix finished with a splash of Coca-Cola.\"}]}, {'@type': 'MenuSection', 'name': 'ALTERNATIVE ROCK', 'description': '(ALCOHOL FREE)', 'hasMenuItem': [{'@type': 'MenuItem', 'name': 'STRAWBERRY BASIL LEMONADE', 'description': 'A refreshing lemonade muddled with fresh strawberries and basil.'}, {'@type': 'MenuItem', 'name': 'MANGO TANGO', 'description': 'Red Bull®, mango juice and orange juice.'}, {'@type': 'MenuItem', 'name': 'MANGO-BERRY COOLER', 'description': 'A tropical blend of mangos, strawberries, pineapple juice, orange juice and house-made sour mix topped with lemon-lime soda.'}, {'@type': 'MenuItem', 'name': 'COLD BEVERAGES', 'description': 'Coca-Cola, Coca-Cola Zero Sugar, Diet Coke, Sprite, Fanta Orange, Red Bull® Energy Drink, Red Bull® Sugarfree, Red Bull® Edition, Soda, Still Water, Sparkling Water, Juice and Iced Tea.'}]}, {'@type': 'MenuSection', 'name': 'BEER', 'description': '€16.75 INCLUDES YOUR 20OZ COLLECTIBLE PINT GLASS\\nOur selection of beer may be available in bottles or on draught.\\nYour server will tell you our additional local selections available.', 'hasMenuItem': [{'@type': 'MenuItem', 'name': 'NASTRO AZZURRO', 'description': 'DRAUGHT'}, {'@type': 'MenuItem', 'name': 'PERONI RED', 'description': 'DRAUGHT'}, {'@type': 'MenuItem', 'name': 'PERONI GRAN RISERVA', 'description': 'DRAUGHT'}]}, {'@type': 'MenuSection', 'name': 'ENERGY DRINK', 'description': None, 'hasMenuItem': [{'@type': 'MenuItem', 'name': 'RED BULL ENERGY DRINK', 'description': None}, {'@type': 'MenuItem', 'name': 'RED BULL SUGARFREE', 'description': None}, {'@type': 'MenuItem', 'name': 'RED BULL EDITION', 'description': None}]}, {'@type': 'MenuSection', 'name': 'COFFEE DRINKS', 'description': None, 'hasMenuItem': [{'@type': 'MenuItem', 'name': 'IRISH KISS', 'description': 'Jameson Irish Whiskey, Baileys Irish Cream and brown simple syrup, topped with whipped cream and chocolate syrup.'}, {'@type': 'MenuItem', 'name': 'BAILEYS IRISH COFFEE', 'description': \"This 'spin' on a classic is a velvety 'hug' in a glass. Baileys Irish liqueur and coffee topped with whipped cream.\"}, {'@type': 'MenuItem', 'name': 'IRISH COFFEE', 'description': 'A true classic. Jameson Irish Whiskey and coffee topped with whipped cream.'}, {'@type': 'MenuItem', 'name': 'KAHLÚA COFFEE', 'description': 'A match made in coffee heaven. Coffee, spiked with Kahlúa liqueur and topped with whipped cream.'}, {'@type': 'MenuItem', 'name': 'CAFFE CORRETTO', 'description': 'Enjoy your espresso coffee and\\nadd either grappa or Sambuca!\\nPlease ask your server.'}]}]}]\n"
     ]
    }
   ],
   "source": [
    "print(data['hasMenu'])"
   ]
  },
  {
   "cell_type": "code",
   "execution_count": 121,
   "id": "aede1b6b",
   "metadata": {},
   "outputs": [
    {
     "data": {
      "text/plain": [
       "[['CLASSIC NACHOS',\n",
       "  'Crisp tortilla chips layered with ranch-style beans and a four-cheese sauce blend, topped with fresh pico de gallo, spicy jalapeños, melted cheddar and Monterey Jack cheese, pickled red onions and scallions, served with sour cream on the side.\\nAdd Guacamole, Grilled Chicken, or Grilled Steak for an additional cost.'],\n",
       " ['ONE NIGHT IN BANGKOK SPICY SHRIMPTM',\n",
       "  'Crispy shrimp, tossed in a creamy, spicy sauce, topped with green onions, served on a bed of creamy coleslaw.'],\n",
       " ['WINGS',\n",
       "  'Our signature slow-roasted jumbo wings tossed with your choice of classic buffalo, sweet &amp; spicy tangy, or house-made barbecue sauce, served with celery and blue cheese dressing.'],\n",
       " ['BONELESS WINGS',\n",
       "  'Crispy chicken thighs tossed with your choice of classic Buffalo, sweet &amp; spicy tangy, or house-made barbecue sauce, served with celery and blue cheese dressing.'],\n",
       " ['ALL-AMERICAN SLIDERS',\n",
       "  'Three mini-burgers with melted American cheese, crispy onion ring and creamy coleslaw on a toasted brioche bun.'],\n",
       " ['BALSAMIC TOMATO BRUSCHETTA',\n",
       "  'Roma Tomatoes marinated in balsamic vinegar and fresh basil topped with grated Romano served with a stack of toasted artisan bread and shaved Parmesan on the side.'],\n",
       " ['ORIGINAL LEGENDARY® BURGER',\n",
       "  'The burger that started it all! Fresh steak burger, with smoked bacon, Cheddar cheese, crispy onion ring, leaf lettuce and vine-ripened tomato.'],\n",
       " ['BBQ BACON CHEESEBURGER',\n",
       "  'Fresh steak burger, seasoned and seared with a signature spice blend, topped with house-made barbecue sauce, crispy shoestring onions, Cheddar cheese, smoked bacon, leaf lettuce and vine-ripened tomato.'],\n",
       " ['THE BIG CHEESEBURGER',\n",
       "  'Three slices of Cheddar cheese melted on our fresh steak burger, served with leaf lettuce, vine-ripened tomato and red onion.'],\n",
       " ['DOUBLE DECKER DOUBLE CHEESEBURGER',\n",
       "  'A tribute to our 1971 \"Down Home Double Burger\". Two stacked steak burgers with American cheese, mayonnaise, leaf lettuce, vine-ripened tomato and red onion.'],\n",
       " ['MOVING MOUNTAINS® BURGER',\n",
       "  '100% plant-based patty, topped with Cheddar cheese and a crispy onion ring, served with leaf lettuce and vine-ripened tomato.'],\n",
       " ['SURF &amp; TURF BURGER',\n",
       "  'Our signature steak burger topped with One Night in Bangkok Spicy ShrimpTM on a bed of spicy slaw.'],\n",
       " ['COUNTRY BURGER',\n",
       "  'Two smashed &amp; stacked burgers seasoned and seared medium-well, with American cheese, leaf lettuce, vine-ripened tomato, red onion, pickles and house-made burger sauce.'],\n",
       " ['SWISS MUSHROOM BURGER',\n",
       "  'Two smashed &amp; stacked burgers seasoned and seared medium-well, with Swiss cheese, sautéed mushrooms, leaf lettuce, vine-ripened tomato, and mayonnaise.'],\n",
       " ['SPICY DIABLO BURGER',\n",
       "  'Two smashed &amp; stacked burgers seasoned and seared medium-well, with Monterey Jack cheese, pickled jalapeños, leaf lettuce, vine-ripened tomato, and spicy mayonnaise.'],\n",
       " ['BBQ PULLED PORK SANDWICH',\n",
       "  'Hand-pulled smoked pork with our house-made barbecue sauce, served on a toasted fresh brioche bun with coleslaw and pickles.'],\n",
       " ['GRILLED CHICKEN SANDWICH',\n",
       "  'Grilled chicken with melted Monterey Jack cheese, smoked bacon, leaf lettuce and vine-ripened\\ntomato, served on a toasted fresh brioche bun with honey mustard sauce.'],\n",
       " ['FRIED CHICKEN SANDWICH',\n",
       "  'Crispy buttermilk-marinated chicken breast with leaf lettuce, vine-ripened tomato and ranch dressing, served on a toasted fresh brioche bun.'],\n",
       " ['BUFFALO CHICKEN SANDWICH',\n",
       "  'Buttermilk-marinated fried chicken tossed with our classic Buffalo sauce with leaf lettuce, vine-ripened tomato and ranch dressing, served on a toasted fresh brioche bun.'],\n",
       " ['GRILLED CHICKEN CAESAR SALAD',\n",
       "  'Chicken breast, grilled and sliced with fresh romaine tossed in a classic Caesar dressing, topped with parmesan crisps, croutons and shaved parmesan cheese.\\nSubstitute Grilled Salmon for an additional cost'],\n",
       " ['GRILLED SALMON NOODLE BOWL',\n",
       "  'Ramen noodles tossed in a sesame-soy dressing over a bed of mixed greens topped with edamame,\\njulienned carrots, red peppers, red cabbage, and green onions, served with grilled salmon. Substitute Grilled Chicken or Grilled Steak for an additional cost.'],\n",
       " ['SOUTHWESTERN CHICKEN BOWL',\n",
       "  'Fajita-spiced chicken, quinoa corn salad, pico de gallo, seasoned black beans and red cabbage served on mixed greens tossed in guacamole ranch dressing. Substitute Grilled Steak for an additional cost.'],\n",
       " ['STEAK SALAD',\n",
       "  'Grilled steak on a bed of fresh mixed greens tossed in a blue cheese vinaigrette, with pickled red onions, red peppers and Roma tomatoes, finished with crispy shoestring onions and blue cheese crumbles.'],\n",
       " ['COWBOY RIBEYE',\n",
       "  \"397g grilled ribeye topped with herb butter, served with golden mashed potatoes and fresh vegetables. Enjoy Surf n' Turf style with One Night in Bangkok Spicy ShrimpTM for an additional cost.\"],\n",
       " ['NEW YORK STRIP STEAK',\n",
       "  \"340g New York strip steak, grilled and topped with herb butter, served with golden mashed potatoes and fresh vegetables. Enjoy Surf n' Turf style with One Night in Bagkok Spicy ShrimpTM for an additional cost.\"],\n",
       " ['FAMOUS FAJITAS',\n",
       "  'Classic Tex-Mex-style fajitas, served with fresh pico de gallo, Monterey Jack and cheddar cheese, house-made guacamole, sour cream and warm tortillas. Available with: Grilled Chicken, Grilled Steak, Duo Combo, or Veggie Fajitas.'],\n",
       " ['BABY BACK RIBS',\n",
       "  'Seasoned with our signature spice blend, then glazed with our house-made barbecue sauce and grilled to perfection, served with seasoned fries, coleslaw and ranch-style beans.'],\n",
       " ['TWISTED MAC, CHICKEN &amp; CHEESE',\n",
       "  'Grilled chicken breast, sliced and served on cavatappi pasta tossed in a four-cheese sauce blend with diced red peppers.'],\n",
       " ['SMOKEHOUSE BBQ COMBO',\n",
       "  'Choose from slow-cooked Baby Back Ribs, Barbecue Chicken, or hand-pulled smoked pork served with our house-made barbecue sauce. The perfect combination of our smokehouse specialties, served with seasoned fries, coleslaw and ranch-style beans.'],\n",
       " ['CEDAR PLANK SALMON',\n",
       "  'Norwegian Salmon chargrilled on a cedar plank with sweet &amp; spicy mustard glaze, served with mashed potatoes and fresh vegetables.'],\n",
       " ['TUPELO CHICKEN TENDERS',\n",
       "  'Crispy, fresh chicken tenders served with seasoned fries, honey mustard and our house-made barbecue sauce.'],\n",
       " ['BARBECUE CHICKEN',\n",
       "  'Half chicken, brined then basted with our house-made  barbecue sauce and roasted until fork-tender. Served with seasoned fries, coleslaw and ranch-style beans.'],\n",
       " ['SEASONED FRIES', None],\n",
       " ['FRESH VEGETABLES', None],\n",
       " ['TWISTED MAC &amp; CHEESE', None],\n",
       " ['GOLDEN ONION RING TOWER', None],\n",
       " ['GOLDEN MASHED POTATOES', None],\n",
       " ['SIDE CAESAR SALAD', None],\n",
       " ['SIDE HOUSE SALAD', None],\n",
       " ['HOT FUDGE BROWNIE',\n",
       "  'Warm chocolate brownie topped with vanilla bean ice cream, hot fudge, chocolate sprinkles, fresh whipped cream and a cherry.'],\n",
       " ['NEW YORK CHEESECAKE',\n",
       "  'Rich and creamy NY-style cheesecake served with a fresh strawberry sauce and fresh whipped cream.'],\n",
       " ['HOMEMADE APPLE COBBLER',\n",
       "  'Old-fashioned apple cobbler with warm Granny Smith apples, baked until golden brown and topped with vanilla bean ice cream and caramel sauce.'],\n",
       " ['ICE CREAM', 'Choose from Madagascar vanilla bean or rich chocolate.'],\n",
       " ['DINER-STYLE MILKSHAKES',\n",
       "  'Your choice of Madagascar vanilla bean or rich chocolate ice cream blended thick and finished with fresh whipped cream.'],\n",
       " ['HURRICANE',\n",
       "  'Our signature cocktail and a 1940s New Orleans classic!\\nBacardi Superior Rum, a blend of orange, mango, pineapple juice and grenadine, finished with a float of\\nCaptain Morgan Dark Rum and Amaretto.'],\n",
       " ['CLASSIC CARIBBEAN MOJITO',\n",
       "  'A treasured favorite with a little extra jazz!\\nA traditional blend of Bacardi Superior Rum, fresh mint and lime, sparkling soda with a premium Bacardi Añejo Cuatro floater.'],\n",
       " ['PASSION FRUIT MAI TAI',\n",
       "  'A Tiki classic invented in the 1940s in California! Sailor Jerry Spiced Rum, passion fruit and a blend of traditional Tiki flavors, topped with a pineapple wedge.'],\n",
       " ['RHYTHM &amp; ROSÉ MULE',\n",
       "  'Absolut Vodka and crisp Rosé, with the refreshing flavours of passion fruit, green tea and lime finished with Fever-Tree Ginger Beer, served in our signature Mule Mug.'],\n",
       " ['BAHAMA MAMA',\n",
       "  'Bacardi Superior Rum, Malibu Coconut, De Kuyper Crème De Banana, grenadine, pineapple and orange\\njuice.'],\n",
       " ['SMOKED OLD FASHIONED',\n",
       "  'A smoky version of an 1800s vintage whisky beverage.\\nBulleit Bourbon, house-made brown sugar\\nsimple syrup, cherry bitters and a cherry garnish.'],\n",
       " ['PALOMA',\n",
       "  'A refreshing classic Mexican cocktail.\\nCazadores Tequila with grapefruit juice, Monin Agave Syrup and a\\nhint of lime, topped with club soda.'],\n",
       " ['DIRTY MARTINI',\n",
       "  'Ketel One Vodka, olive juice, Dry Vermouth, shaken and\\ngarnished with green pitted olives.'],\n",
       " ['COSMOPOLITAN',\n",
       "  'Ketel One Vodka, Cointreau, lime and cranberry juices,\\nshaken and served chilled.'],\n",
       " ['WHISKEY SOUR',\n",
       "  'A favourite amongst sailors in the 1800s and beyond.\\nBulleit Bourbon, lime juice and egg whites shaken until frothy\\nand chilled.'],\n",
       " ['GIN &amp; TONIC',\n",
       "  \"Originally served for medicinal purposes, this 'G&amp;T'\\nis just what the doctor ordered!\\nHendrick's Gin and Fever-Tree Elderflower Tonic, served with\\njuniper berries, cucumber &amp; lime.\"],\n",
       " ['ESPRESSO MARTINI',\n",
       "  'Ketel One Vodka, Kahlúa Coffee Liqueur and fresh brewed espresso,\\nshaken until frothy and chilled'],\n",
       " ['MANHATTAN',\n",
       "  'A NYC classic originating in the 1800s.\\nBulleit Bourbon, Antica Sweet Vermouth, cherry bitters and finished\\nwith a cherry garnish.'],\n",
       " ['SOUTHERN ROCK',\n",
       "  \"Jack Daniel's Tennessee Whiskey, Southern Comfort, Chambord Raspberry Liqueur and Smirnoff Vodka, mixed with sweet &amp; sour and topped with Sprite.\"],\n",
       " [\"ROCKIN' FRESH RITA\",\n",
       "  'Jose Cuervo Silver Tequila, lime juice and agave nectar, finished with our signature sweet and savoury rim.'],\n",
       " ['TROPICAL MARGARITA',\n",
       "  'Jose Cuervo Silver Tequila, house-infused with fresh strawberries, Cointreau Orange Liqueur, and the fresh flavours of guava, pineapple and lime juice.'],\n",
       " ['ELECTRIC BLUES',\n",
       "  'Smirnoff Vodka, Bacardi Superior Rum, Beefeater Gin and De Kuyper Blue Curaçao with sweet &amp; sour and topped with Red Bull® Yellow Edition.'],\n",
       " ['BLACKBERRY SPARKLING SANGRIA',\n",
       "  'A signature blend of red wine, the fresh flavours of blackberries, cranberry juice and squeeze of orange, topped with sparkling wine.'],\n",
       " ['PURPLE HAZE',\n",
       "  'Smirnoff Vodka, Beefeater Gin and Bacardi Superior Rum mixed with sweet &amp; sour, topped with Sprite and Chambord Raspberry Liqueur.'],\n",
       " ['ULTIMATE LONG ISLAND ICED TEA',\n",
       "  \"Tito's Handmade Vodka, Bombay Sapphire Gin, Sailor Jerry Spiced Rum, Cointreau Orange Liqueur, house-made sour mix finished with a splash of Coca-Cola.\"],\n",
       " ['STRAWBERRY BASIL LEMONADE',\n",
       "  'A refreshing lemonade muddled with fresh strawberries and basil.'],\n",
       " ['MANGO TANGO', 'Red Bull®, mango juice and orange juice.'],\n",
       " ['MANGO-BERRY COOLER',\n",
       "  'A tropical blend of mangos, strawberries, pineapple juice, orange juice and house-made sour mix topped with lemon-lime soda.'],\n",
       " ['COLD BEVERAGES',\n",
       "  'Coca-Cola, Coca-Cola Zero Sugar, Diet Coke, Sprite, Fanta Orange, Red Bull® Energy Drink, Red Bull® Sugarfree, Red Bull® Edition, Soda, Still Water, Sparkling Water, Juice and Iced Tea.'],\n",
       " ['NASTRO AZZURRO', 'DRAUGHT'],\n",
       " ['PERONI RED', 'DRAUGHT'],\n",
       " ['PERONI GRAN RISERVA', 'DRAUGHT'],\n",
       " ['RED BULL ENERGY DRINK', None],\n",
       " ['RED BULL SUGARFREE', None],\n",
       " ['RED BULL EDITION', None],\n",
       " ['IRISH KISS',\n",
       "  'Jameson Irish Whiskey, Baileys Irish Cream and brown simple syrup, topped with whipped cream and chocolate syrup.'],\n",
       " ['BAILEYS IRISH COFFEE',\n",
       "  \"This 'spin' on a classic is a velvety 'hug' in a glass. Baileys Irish liqueur and coffee topped with whipped cream.\"],\n",
       " ['IRISH COFFEE',\n",
       "  'A true classic. Jameson Irish Whiskey and coffee topped with whipped cream.'],\n",
       " ['KAHLÚA COFFEE',\n",
       "  'A match made in coffee heaven. Coffee, spiked with Kahlúa liqueur and topped with whipped cream.'],\n",
       " ['CAFFE CORRETTO',\n",
       "  'Enjoy your espresso coffee and\\nadd either grappa or Sambuca!\\nPlease ask your server.']]"
      ]
     },
     "execution_count": 121,
     "metadata": {},
     "output_type": "execute_result"
    }
   ],
   "source": [
    "getMenu(data)"
   ]
  },
  {
   "cell_type": "code",
   "execution_count": null,
   "id": "ea11dbbf",
   "metadata": {},
   "outputs": [],
   "source": [
    "restaurants = pd.DataFrame(columns = [\"nom\",\"type\",\"menu\"])\n",
    "if ('hasMenu' in data) and (data['hasMenu']!= []):\n",
    "\n",
    "    typeCuisine = data['servesCuisine'].split(\", \")\n",
    "\n",
    "    resto = pd.DataFrame({'nom': data['name'], 'type': [typeCuisine], 'menu' : [getMenu(data)]})\n",
    "    restaurants = pd.concat([restaurants, resto], ignore_index=True)\n",
    "    restaurants"
   ]
  },
  {
   "cell_type": "code",
   "execution_count": 134,
   "id": "a9c62728",
   "metadata": {},
   "outputs": [
    {
     "name": "stdout",
     "output_type": "stream",
     "text": [
      "oui\n"
     ]
    }
   ],
   "source": [
    "if ('hasMenu' in data) and (data['hasMenu']!= []):\n",
    "    print(\"oui\")\n",
    "else :\n",
    "    print(\"non\")"
   ]
  },
  {
   "cell_type": "code",
   "execution_count": 141,
   "id": "3d0fbd6a",
   "metadata": {
    "scrolled": false
   },
   "outputs": [
    {
     "data": {
      "text/html": [
       "<div>\n",
       "<style scoped>\n",
       "    .dataframe tbody tr th:only-of-type {\n",
       "        vertical-align: middle;\n",
       "    }\n",
       "\n",
       "    .dataframe tbody tr th {\n",
       "        vertical-align: top;\n",
       "    }\n",
       "\n",
       "    .dataframe thead th {\n",
       "        text-align: right;\n",
       "    }\n",
       "</style>\n",
       "<table border=\"1\" class=\"dataframe\">\n",
       "  <thead>\n",
       "    <tr style=\"text-align: right;\">\n",
       "      <th></th>\n",
       "      <th>nom</th>\n",
       "      <th>type</th>\n",
       "      <th>menu</th>\n",
       "    </tr>\n",
       "  </thead>\n",
       "  <tbody>\n",
       "    <tr>\n",
       "      <th>0</th>\n",
       "      <td>Hard Rock Cafe - Paris</td>\n",
       "      <td>[American]</td>\n",
       "      <td>[[CLASSIC NACHOS, Crisp tortilla chips layered...</td>\n",
       "    </tr>\n",
       "  </tbody>\n",
       "</table>\n",
       "</div>"
      ],
      "text/plain": [
       "                      nom        type  \\\n",
       "0  Hard Rock Cafe - Paris  [American]   \n",
       "\n",
       "                                                menu  \n",
       "0  [[CLASSIC NACHOS, Crisp tortilla chips layered...  "
      ]
     },
     "execution_count": 141,
     "metadata": {},
     "output_type": "execute_result"
    }
   ],
   "source": [
    "restaurants"
   ]
  }
 ],
 "metadata": {
  "kernelspec": {
   "display_name": "Python 3 (ipykernel)",
   "language": "python",
   "name": "python3"
  },
  "language_info": {
   "codemirror_mode": {
    "name": "ipython",
    "version": 3
   },
   "file_extension": ".py",
   "mimetype": "text/x-python",
   "name": "python",
   "nbconvert_exporter": "python",
   "pygments_lexer": "ipython3",
   "version": "3.9.13"
  }
 },
 "nbformat": 4,
 "nbformat_minor": 5
}
