{
 "cells": [
  {
   "cell_type": "markdown",
   "id": "b4e7ebd6",
   "metadata": {},
   "source": [
    "# EXEMPLE DE SCRAPPING"
   ]
  },
  {
   "cell_type": "markdown",
   "id": "542ef8e0",
   "metadata": {},
   "source": [
    "### MONTOYA ADELE"
   ]
  },
  {
   "cell_type": "markdown",
   "id": "873a523d",
   "metadata": {},
   "source": [
    "ESILV Année 5 - DIA02"
   ]
  },
  {
   "cell_type": "markdown",
   "id": "03bff441",
   "metadata": {},
   "source": [
    "### SUJET ET CONTEXTE : "
   ]
  },
  {
   "cell_type": "markdown",
   "id": "67347bac",
   "metadata": {},
   "source": [
    "Pour rappel notre projet :  \n",
    "Etude comparative entre les restaurants qui respectent la saisonnalité des fruits et légumes et ceux qui ne respectent pas."
   ]
  },
  {
   "cell_type": "markdown",
   "id": "9a6d6873",
   "metadata": {},
   "source": [
    "Données :  \n",
    "Pour ce projet, en plus de scrapper les menus des restaurants, il faut scrapper la liste des fruits et légumes pour chaque saison. Dans notre cas, on va scrapper la liste des aliments en fonction des mois."
   ]
  },
  {
   "cell_type": "markdown",
   "id": "787aa2b5",
   "metadata": {},
   "source": [
    "SiteWeb :  \n",
    "J'ai trouvé ces informations sur le site https://www.greenpeace.fr/guetteur/calendrier/"
   ]
  },
  {
   "cell_type": "markdown",
   "id": "02dc2bac",
   "metadata": {},
   "source": [
    "Prérequis :  \n",
    "Avoir Selenium, et avoir des versions compatibles de Goolgle Chrome et Chrome Driver (ce qui pour ma part était compliqué à avoir)"
   ]
  },
  {
   "cell_type": "code",
   "execution_count": 2,
   "id": "fcf90bf5",
   "metadata": {},
   "outputs": [
    {
     "name": "stdout",
     "output_type": "stream",
     "text": [
      "En Janvier :\n",
      "Legumes : Ail, Betterave, Carotte, Céleri-branche, Céleri-rave, Chou, Chou blanc, Chou de Bruxelles, Chou frisé, Chou rouge, Courge, Crosne, Endive, Épinard, Frisée, Mâche, Navet, Oignon, Panais, Poireau, Pomme de terre de conservation, Salsifi, Topinambour\n",
      "Fruits : Amande sèche, Citron, Clémentine, Kaki, Kiwi, Mandarine, Orange, Pamplemousse, Physalis, Poire, Pomme\n",
      "Céréales et légumineuses : Lentille\n",
      "\n",
      "En Fevrier :\n",
      "Legumes : Ail, Betterave, Carotte, Céleri-rave, Chou blanc, Chou de Bruxelles, Chou frisé, Chou rouge, Crosne, Endive, Épinard, Frisée, Mâche, Navet, Oignon, Panais, Poireau, Pomme de terre de conservation, Radis, Salsifi, Topinambour\n",
      "Fruits : Amande sèche, Citron, Clémentine, Kiwi, Mandarine, Orange, Pamplemousse, Physalis, Poire, Pomme\n",
      "Céréales et légumineuses : Lentille\n",
      "\n",
      "En Mars :\n",
      "Legumes : Ail, Asperge, Betterave, Blette, Carotte, Céleri-rave, Chou, Chou de Bruxelles, Chou-fleur, Crosne, Endive, Épinard, Frisée, Navet, Oignon, Panais, Poireau, Pomme de terre de conservation, Radis, Salsifi, Topinambour\n",
      "Fruits : Amande sèche, Citron, Kiwi, Orange, Pamplemousse, Poire, Pomme\n",
      "Céréales et légumineuses : Lentille\n",
      "\n",
      "En Avril :\n",
      "Legumes : Ail, Artichaut, Asperge, Betterave, Blette, Carotte, Chou-fleur, Concombre, Endive, Épinard, Frisée, Laitue, Navet, Oignon, Petit pois, Poireau, Pomme de terre primeur, Radis\n",
      "Fruits : Amande sèche, Citron, Pamplemousse, Poire, Pomme\n",
      "Céréales et légumineuses : Ail, Artichaut, Asperge, Aubergine, Betterave, Blette, Carotte, Chou-fleur, Concombre, Courgette, Épinard, Laitue, Navet, Oignon, Petit pois, Pomme de terre primeur, Radis\n",
      "\n",
      "En Mai :\n",
      "Legumes : Ail, Artichaut, Asperge, Aubergine, Betterave, Blette, Carotte, Chou-fleur, Concombre, Courgette, Épinard, Laitue, Navet, Oignon, Petit pois, Pomme de terre primeur, Radis\n",
      "Fruits : Amande sèche, Cerise, Fraise, Pamplemousse, Rhubarbe, Tomate\n",
      "Céréales et légumineuses : Ail, Artichaut, Asperge, Aubergine, Betterave, Blette, Brocoli, Carotte, Chou romanesco, Concombre, Courgette, Épinard, Fenouil, Haricot vert, Laitue, Navet, Oignon, Petit pois, Poivron, Pomme de terre primeur, Radis\n",
      "\n",
      "En Juin :\n",
      "Legumes : Ail, Artichaut, Asperge, Aubergine, Betterave, Blette, Brocoli, Carotte, Chou romanesco, Concombre, Courgette, Épinard, Fenouil, Haricot vert, Laitue, Navet, Oignon, Petit pois, Poivron, Pomme de terre primeur, Radis\n",
      "Fruits : Abricot, Amande sèche, Brugnon, Cassis, Cerise, Citron, Fraise, Framboise, Groseille, Melon, Pamplemousse, Pastèque, Pêche, Pomme, Prune, Rhubarbe, Tomate\n",
      "Céréales et légumineuses : Avoine d'hiver, Avoine de printemps, Orge d'hiver, Pois, Seigle\n",
      "\n",
      "En Juillet :\n",
      "Legumes : Ail, Artichaut, Asperge, Aubergine, Betterave, Blette, Brocoli, Carotte, Céleri-branche, Chou romanesco, Concombre, Courgette, Épinard, Fenouil, Haricot vert, Laitue, Oignon, Petit pois, Poivron, Pomme de terre primeur, Radis\n",
      "Fruits : Abricot, Amande fraiche, Amande sèche, Brugnon, Cassis, Cerise, Figue, Fraise, Framboise, Groseille, Melon, Myrtille, Nectarine, Pastèque, Pêche, Poire, Prune, Rhubarbe, Tomate\n",
      "Céréales et légumineuses : Avoine d'hiver, Avoine de printemps, Blé dur d'hiver et de printemps, Blé tendre d'hiver et de printemps, Féveroles et fèves, Haricot blanc, Maïs, Orge d'hiver, Orge de printemps, Pois, Seigle\n",
      "\n",
      "En Aout :\n",
      "Legumes : Ail, Artichaut, Aubergine, Betterave, Blette, Brocoli, Carotte, Céleri-branche, Chou blanc, Chou romanesco, Chou rouge, Concombre, Courge, Courgette, Épinard, Fenouil, Frisée, Haricot vert, Laitue, Oignon, Poivron, Pomme de terre primeur, Radis\n",
      "Fruits : Abricot, Amande fraiche, Amande sèche, Baie de goji, Brugnon, Cassis, Figue, Fraise, Framboise, Groseille, Melon, Mirabelle, Mûre, Myrtille, Nectarine, Noisette, Pastèque, Pêche, Poire, Pomme, Prune, Pruneau, Raisin, Tomate\n",
      "Céréales et légumineuses : Avoine d'hiver, Avoine de printemps, Blé dur d'hiver et de printemps, Blé tendre d'hiver et de printemps, Féveroles et fèves, Haricot blanc, Maïs, Orge d'hiver, Orge de printemps, Pois, Quinoa, Seigle\n",
      "\n",
      "En Septembre :\n",
      "Legumes : Ail, Artichaut, Aubergine, Betterave, Blette, Brocoli, Carotte, Céleri-branche, Chou, Chou blanc, Chou de Bruxelles, Chou-fleur, Chou frisé, Chou romanesco, Chou rouge, Concombre, Courge, Courgette, Épinard, Fenouil, Frisée, Haricot vert, Laitue, Oignon, Panais, Patate douce, Poireau, Poivron, Pomme de terre de conservation, Potiron, Radis\n",
      "Fruits : Amande sèche, Baie de goji, Coing, Figue, Melon, Mirabelle, Mûre, Myrtille, Noisette, Noix, Pastèque, Pêche, Poire, Pomme, Prune, Pruneau, Raisin, Tomate\n",
      "Céréales et légumineuses : Haricot blanc, Maïs, Quinoa, Riz, Sarrasin, Tournesol\n",
      "\n",
      "En Octobre :\n",
      "Legumes : Ail, Aubergine, Betterave, Blette, Brocoli, Carotte, Céleri-branche, Céleri-rave, Chou, Chou blanc, Chou de Bruxelles, Chou-fleur, Chou frisé, Chou rouge, Concombre, Courge, Courgette, Echalote, Endive, Épinard, Fenouil, Frisée, Haricot vert, Laitue, Navet, Oignon, Panais, Patate douce, Poireau, Pomme de terre de conservation, Potiron, Radis, Rutabaga, Salsifi, Topinambour\n",
      "Fruits : Amande sèche, Baie de goji, Châtaigne, Citron, Coing, Figue, Framboise, Kaki, Myrtille, Noisette, Noix, Physalis, Poire, Pomme, Raisin, Tomate\n",
      "Céréales et légumineuses : Haricot blanc, Maïs, Quinoa, Riz, Sarrasin, Soja\n",
      "\n",
      "En Novembre :\n",
      "Legumes : Ail, Betterave, Brocoli, Cardon, Carotte, Céleri-branche, Céleri-rave, Chou, Chou blanc, Chou de Bruxelles, Chou-fleur, Chou frisé, Chou rouge, Citrouille, Courge, Crosne, Echalote, Endive, Épinard, Fenouil, Frisée, Mâche, Navet, Oignon, Panais, Poireau, Pomme de terre de conservation, Potiron, Radis, Rutabaga, Salsifi, Topinambour\n",
      "Fruits : Amande sèche, Châtaigne, Citron, Clémentine, Coing, Kaki, Kiwi, Mandarine, Orange, Physalis, Poire, Pomme\n",
      "Céréales et légumineuses : Lentille, Maïs\n",
      "\n",
      "En Decembre :\n",
      "Legumes : Ail, Betterave, Carotte, Céleri-branche, Céleri-rave, Chou, Chou blanc, Chou de Bruxelles, Chou frisé, Chou rouge, Courge, Crosne, Echalote, Endive, Épinard, Frisée, Mâche, Navet, Oignon, Panais, Poireau, Pomme de terre de conservation, Potiron, Radis, Rutabaga, Salsifi, Topinambour\n",
      "Fruits : Amande sèche, Châtaigne, Citron, Clémentine, Kaki, Kiwi, Mandarine, Orange, Physalis, Poire, Pomme\n",
      "Céréales et légumineuses : Avoine d'hiver, Avoine de printemps, Blé dur d'hiver et de printemps, Blé tendre d'hiver et de printemps, Féveroles et fèves, Lentille, Orge d'hiver, Orge de printemps, Pois, Seigle\n",
      "\n"
     ]
    }
   ],
   "source": [
    "from selenium import webdriver\n",
    "from selenium.webdriver.chrome.options import Options\n",
    "from selenium.webdriver.common.by import By\n",
    "from selenium.webdriver.support.ui import WebDriverWait\n",
    "from selenium.webdriver.support import expected_conditions as EC\n",
    "from bs4 import BeautifulSoup\n",
    "\n",
    "\n",
    "# Configurer les options de Selenium pour exécuter Chrome en mode headless\n",
    "options = Options()\n",
    "options.add_argument('--headless')\n",
    "\n",
    "path_to_chromedriver = 'D:\\ESILV4\\Python data analyse\\chromedriver-win32\\chromedriver.exe' \n",
    "driver = webdriver.Chrome(executable_path=path_to_chromedriver)\n",
    "driver.get(\"https://www.google.com\")\n",
    "\n",
    "url = 'https://www.greenpeace.fr/guetteur/calendrier/' #mon site à scrapper\n",
    "\n",
    "driver.get(url) # Ouvrir la page web avec Selenium\n",
    "\n",
    "# Attendre que le contenu dynamique soit chargé\n",
    "wait = WebDriverWait(driver, 10)\n",
    "wait.until(EC.visibility_of_element_located((By.CLASS_NAME, \"month\")))\n",
    "\n",
    "# stocker le code source de la page dans la variable htlm\n",
    "html = driver.page_source\n",
    "\n",
    "# Fermer le navigateur\n",
    "driver.quit()\n",
    "\n",
    "# Utiliser BeautifulSoup pour analyser le contenu\n",
    "soup = BeautifulSoup(html, 'html.parser')\n",
    "\n",
    "mois_elements = soup.find_all('li', class_='month')\n",
    "\n",
    "for mois in mois_elements:\n",
    "    nom_du_mois = mois.find('a').get('id') # Récupérer les noms des mois\n",
    "\n",
    "    # Le premier 'ul' pour les légumes\n",
    "    ul_legumes = mois.find_next('ul', attrs={'data-v-a603cee8': True})\n",
    "    legumes = [li.get_text(strip=True) for li in ul_legumes.find_all('li', attrs={'data-v-a603cee8': True})]\n",
    "\n",
    "    #  Après celui des légumes, c'est le ul des fruits\n",
    "    ul_fruits = ul_legumes.find_next('ul', attrs={'data-v-a603cee8': True})\n",
    "    fruits = []\n",
    "    if ul_fruits:\n",
    "        fruits = [li.get_text(strip=True) for li in ul_fruits.find_all('li', attrs={'data-v-a603cee8': True})]\n",
    "        \n",
    "    # Et le dernier c'est celui des Céréales & légumineuses\n",
    "    ul_cere = ul_fruits.find_next('ul', attrs={'data-v-a603cee8': True})\n",
    "    cereales = []\n",
    "    if ul_cere:\n",
    "        cereales = [li.get_text(strip=True) for li in ul_cere.find_all('li', attrs={'data-v-a603cee8': True})]\n",
    "\n",
    "    # j'ajoute dans le dico avec le nom du mois comme clé\n",
    "    noms_par_mois[nom_du_mois] = {'Legumes': legumes, 'Fruits': fruits, 'Céréales et légumineuses': cereales}\n",
    "\n",
    "#affichage\n",
    "for mois, categories in noms_par_mois.items():\n",
    "    print(f\"En {mois.capitalize()} :\")\n",
    "    for categorie, items in categories.items():\n",
    "        items_list = ', '.join(items)\n",
    "        print(f\"{categorie} : {items_list}\")\n",
    "    print()"
   ]
  },
  {
   "cell_type": "code",
   "execution_count": 4,
   "id": "2b5ed260",
   "metadata": {},
   "outputs": [
    {
     "name": "stdout",
     "output_type": "stream",
     "text": [
      "         Mois                 Catégorie  \\\n",
      "0     janvier                   Legumes   \n",
      "1     janvier                    Fruits   \n",
      "2     janvier  Céréales et légumineuses   \n",
      "3     fevrier                   Legumes   \n",
      "4     fevrier                    Fruits   \n",
      "5     fevrier  Céréales et légumineuses   \n",
      "6        mars                   Legumes   \n",
      "7        mars                    Fruits   \n",
      "8        mars  Céréales et légumineuses   \n",
      "9       avril                   Legumes   \n",
      "10      avril                    Fruits   \n",
      "11      avril  Céréales et légumineuses   \n",
      "12        mai                   Legumes   \n",
      "13        mai                    Fruits   \n",
      "14        mai  Céréales et légumineuses   \n",
      "15       juin                   Legumes   \n",
      "16       juin                    Fruits   \n",
      "17       juin  Céréales et légumineuses   \n",
      "18    juillet                   Legumes   \n",
      "19    juillet                    Fruits   \n",
      "20    juillet  Céréales et légumineuses   \n",
      "21       aout                   Legumes   \n",
      "22       aout                    Fruits   \n",
      "23       aout  Céréales et légumineuses   \n",
      "24  septembre                   Legumes   \n",
      "25  septembre                    Fruits   \n",
      "26  septembre  Céréales et légumineuses   \n",
      "27    octobre                   Legumes   \n",
      "28    octobre                    Fruits   \n",
      "29    octobre  Céréales et légumineuses   \n",
      "30   novembre                   Legumes   \n",
      "31   novembre                    Fruits   \n",
      "32   novembre  Céréales et légumineuses   \n",
      "33   decembre                   Legumes   \n",
      "34   decembre                    Fruits   \n",
      "35   decembre  Céréales et légumineuses   \n",
      "\n",
      "                                       Liste_elements  \n",
      "0   Ail, Betterave, Carotte, Céleri-branche, Céler...  \n",
      "1   Amande sèche, Citron, Clémentine, Kaki, Kiwi, ...  \n",
      "2                                            Lentille  \n",
      "3   Ail, Betterave, Carotte, Céleri-rave, Chou bla...  \n",
      "4   Amande sèche, Citron, Clémentine, Kiwi, Mandar...  \n",
      "5                                            Lentille  \n",
      "6   Ail, Asperge, Betterave, Blette, Carotte, Céle...  \n",
      "7   Amande sèche, Citron, Kiwi, Orange, Pamplemous...  \n",
      "8                                            Lentille  \n",
      "9   Ail, Artichaut, Asperge, Betterave, Blette, Ca...  \n",
      "10   Amande sèche, Citron, Pamplemousse, Poire, Pomme  \n",
      "11  Ail, Artichaut, Asperge, Aubergine, Betterave,...  \n",
      "12  Ail, Artichaut, Asperge, Aubergine, Betterave,...  \n",
      "13  Amande sèche, Cerise, Fraise, Pamplemousse, Rh...  \n",
      "14  Ail, Artichaut, Asperge, Aubergine, Betterave,...  \n",
      "15  Ail, Artichaut, Asperge, Aubergine, Betterave,...  \n",
      "16  Abricot, Amande sèche, Brugnon, Cassis, Cerise...  \n",
      "17  Avoine d'hiver, Avoine de printemps, Orge d'hi...  \n",
      "18  Ail, Artichaut, Asperge, Aubergine, Betterave,...  \n",
      "19  Abricot, Amande fraiche, Amande sèche, Brugnon...  \n",
      "20  Avoine d'hiver, Avoine de printemps, Blé dur d...  \n",
      "21  Ail, Artichaut, Aubergine, Betterave, Blette, ...  \n",
      "22  Abricot, Amande fraiche, Amande sèche, Baie de...  \n",
      "23  Avoine d'hiver, Avoine de printemps, Blé dur d...  \n",
      "24  Ail, Artichaut, Aubergine, Betterave, Blette, ...  \n",
      "25  Amande sèche, Baie de goji, Coing, Figue, Melo...  \n",
      "26  Haricot blanc, Maïs, Quinoa, Riz, Sarrasin, To...  \n",
      "27  Ail, Aubergine, Betterave, Blette, Brocoli, Ca...  \n",
      "28  Amande sèche, Baie de goji, Châtaigne, Citron,...  \n",
      "29   Haricot blanc, Maïs, Quinoa, Riz, Sarrasin, Soja  \n",
      "30  Ail, Betterave, Brocoli, Cardon, Carotte, Céle...  \n",
      "31  Amande sèche, Châtaigne, Citron, Clémentine, C...  \n",
      "32                                     Lentille, Maïs  \n",
      "33  Ail, Betterave, Carotte, Céleri-branche, Céler...  \n",
      "34  Amande sèche, Châtaigne, Citron, Clémentine, K...  \n",
      "35  Avoine d'hiver, Avoine de printemps, Blé dur d...  \n"
     ]
    }
   ],
   "source": [
    "import pandas as pd\n",
    "\n",
    "data = []\n",
    "\n",
    "for mois, categories in noms_par_mois.items():\n",
    "    for categorie, elements in categories.items():\n",
    "        data.append([mois, categorie, ', '.join(elements)])\n",
    "\n",
    "df = pd.DataFrame(data, columns=['Mois', 'Catégorie', 'Liste_elements'])\n",
    "\n",
    "print(df)"
   ]
  },
  {
   "cell_type": "code",
   "execution_count": 6,
   "id": "accc4533",
   "metadata": {},
   "outputs": [],
   "source": [
    "# Enregistrer le df en .xlsx\n",
    "chemin_fichier_excel = 'D:\\\\ESILV5\\\\Webscrapping\\\\Exemple de scrapp\\\\liste_aliments_mois.xlsx'\n",
    "df.to_excel(chemin_fichier_excel, index=False)"
   ]
  },
  {
   "cell_type": "code",
   "execution_count": null,
   "id": "d8e1a1cf",
   "metadata": {},
   "outputs": [],
   "source": []
  }
 ],
 "metadata": {
  "kernelspec": {
   "display_name": "Python 3 (ipykernel)",
   "language": "python",
   "name": "python3"
  },
  "language_info": {
   "codemirror_mode": {
    "name": "ipython",
    "version": 3
   },
   "file_extension": ".py",
   "mimetype": "text/x-python",
   "name": "python",
   "nbconvert_exporter": "python",
   "pygments_lexer": "ipython3",
   "version": "3.7.13"
  }
 },
 "nbformat": 4,
 "nbformat_minor": 5
}
